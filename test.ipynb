{
 "cells": [
  {
   "cell_type": "code",
   "execution_count": 1,
   "metadata": {},
   "outputs": [
    {
     "name": "stderr",
     "output_type": "stream",
     "text": [
      "/Users/jonathanlamontange-kratz/Library/Python/3.9/lib/python/site-packages/urllib3/__init__.py:34: NotOpenSSLWarning: urllib3 v2 only supports OpenSSL 1.1.1+, currently the 'ssl' module is compiled with 'LibreSSL 2.8.3'. See: https://github.com/urllib3/urllib3/issues/3020\n",
      "  warnings.warn(\n"
     ]
    }
   ],
   "source": [
    "#import dependencies library\n",
    "# the enviornment library\n",
    "import gym\n",
    "\n",
    "#the AI framework \n",
    "import tensorflow as tf\n",
    "import tensorflow.keras as keras \n",
    "import numpy as np\n",
    "\n",
    "#just for ploting stuf\n",
    "import cv2\n",
    "import matplotlib.pyplot as plt\n",
    "import tqdm\n",
    "\n",
    "from collections import deque\n"
   ]
  },
  {
   "cell_type": "code",
   "execution_count": null,
   "metadata": {},
   "outputs": [],
   "source": [
    "!pip install atari-py\n",
    "import urllib.request\n",
    "urllib.request.urlretrieve('http://www.atarimania.com/roms/Roms.rar','Roms.rar')\n",
    "!pip install unrar\n",
    "!unrar x Roms.rar\n",
    "!mkdir rars\n",
    "!mv HC\\ ROMS   rars\n",
    "!mv ROMS  rars\n",
    "!python -m atari_py.import_roms rars"
   ]
  },
  {
   "cell_type": "code",
   "execution_count": 2,
   "metadata": {},
   "outputs": [
    {
     "name": "stderr",
     "output_type": "stream",
     "text": [
      "/Users/jonathanlamontange-kratz/Library/Python/3.9/lib/python/site-packages/gym/envs/registration.py:505: UserWarning: \u001b[33mWARN: The environment Breakout-v0 is out of date. You should consider upgrading to version `v5` with the environment ID `ALE/Breakout-v5`.\u001b[0m\n",
      "  logger.warn(\n",
      "A.L.E: Arcade Learning Environment (version 0.7.5+db37282)\n",
      "[Powered by Stella]\n"
     ]
    }
   ],
   "source": [
    "environment=gym.make(\"Breakout-v0\")"
   ]
  },
  {
   "cell_type": "code",
   "execution_count": 3,
   "metadata": {},
   "outputs": [
    {
     "name": "stdout",
     "output_type": "stream",
     "text": [
      "['NOOP', 'FIRE', 'RIGHT', 'LEFT']\n"
     ]
    }
   ],
   "source": [
    "print(environment.unwrapped.get_action_meanings())"
   ]
  },
  {
   "cell_type": "code",
   "execution_count": 4,
   "metadata": {},
   "outputs": [
    {
     "name": "stdout",
     "output_type": "stream",
     "text": [
      "The number of action is :(4) and which is the number of output of Neural Network\n"
     ]
    }
   ],
   "source": [
    "action_space=environment.action_space.n\n",
    "print(\"The number of action is :({}) and which is the number of output of Neural Network\".format(action_space))"
   ]
  },
  {
   "cell_type": "code",
   "execution_count": 5,
   "metadata": {},
   "outputs": [
    {
     "data": {
      "text/plain": [
       "<matplotlib.image.AxesImage at 0x173be2040>"
      ]
     },
     "execution_count": 5,
     "metadata": {},
     "output_type": "execute_result"
    },
    {
     "data": {
      "image/png": "[encoded data removed]",
      "text/plain": [
       "<Figure size 640x480 with 1 Axes>"
      ]
     },
     "metadata": {},
     "output_type": "display_data"
    }
   ],
   "source": [
    "state=environment.reset()\n",
    "plt.imshow(state)\n"
   ]
  },
  {
   "cell_type": "code",
   "execution_count": 6,
   "metadata": {},
   "outputs": [],
   "source": [
    "class FireResetEnv(gym.Wrapper):\n",
    "    \"\"\"\n",
    "    This class is Warpper where we make sure that the game is runing, becouse in some environment in gym library should \n",
    "    start the game by action \" 1 \" in most of the game so by doing this we make sure that the game is roling.\n",
    "    \"\"\"\n",
    "    def __init__(self, env=None):\n",
    "        super(FireResetEnv, self).__init__(env)\n",
    "        assert env.unwrapped.get_action_meanings()[1] == 'FIRE'\n",
    "        assert len(env.unwrapped.get_action_meanings()) >= 3\n",
    "        \n",
    "    def step(self, action):\n",
    "        return self.env.step(action)\n",
    "    \n",
    "    def reset(self):\n",
    "        self.env.reset()\n",
    "        obs, _, done, _ = self.env.step(1)\n",
    "        if done:\n",
    "            self.env.reset()\n",
    "            obs, _, done, _ = self.env.step(2)\n",
    "            if done:\n",
    "                self.env.reset()\n",
    "        return obs\n"
   ]
  },
  {
   "cell_type": "code",
   "execution_count": 7,
   "metadata": {},
   "outputs": [],
   "source": [
    "env=FireResetEnv(environment)\n"
   ]
  },
  {
   "cell_type": "code",
   "execution_count": 8,
   "metadata": {},
   "outputs": [],
   "source": [
    "#The size of trainig example \n",
    "BATCH_SIZE=1\n",
    "\n",
    "# size of frame the input tensor to the model.\n",
    "WIDTH=84\n",
    "HIGHT=84\n",
    "CHANNELs=4\n",
    "\n",
    "# the Number of support in discrete distribution parameter \n",
    "ATOMS=51\n",
    "# the range that the support value derived from.\n",
    "VMIN=-10\n",
    "VMAX=10\n",
    "\n",
    "#numbe of action\n",
    "ACTIONS=4 #env.action_space.n\n",
    "\n",
    "# the step size between supports \n",
    "DELTA_Z=(VMAX-VMIN)/(ATOMS-1)\n",
    "\n",
    "# the distribuation parameter.\n",
    "Z=np.linspace(VMIN,VMAX,ATOMS,dtype=np.float32)\n"
   ]
  },
  {
   "cell_type": "code",
   "execution_count": 9,
   "metadata": {},
   "outputs": [],
   "source": [
    "keras.backend.clear_session()\n",
    "\n",
    "class CategoricalDQN(keras.Model):\n",
    "    def __init__(self,output_dims,**kwargs):\n",
    "        super().__init__(**kwargs)\n",
    "        \n",
    "        #The conv layers in the model \n",
    "        self.conv=keras.Sequential([\n",
    "            keras.layers.Conv2D(32,8,strides=4,padding='valid',activation='relu'),\n",
    "            keras.layers.Conv2D(64,4,strides=2,padding='valid',activation='relu'),\n",
    "            keras.layers.Conv2D(64,3,strides=1,padding='valid',activation='relu'),\n",
    "            keras.layers.Flatten()\n",
    "        ])\n",
    "        \n",
    "        self.fc=keras.layers.Dense(512,activation='relu')\n",
    "        self.fc_output=keras.layers.Dense(output_dims)\n",
    "        \n",
    "        \n",
    "    def call(self,x):\n",
    "        #find the batch this important if we try to pass one example or more so the batch is not fixed.\n",
    "        batch_size=x.shape[0]\n",
    "        conv_out = self.conv(x)\n",
    "        fc_1 = self.fc(conv_out)\n",
    "        # the output is [batch_size,Action*AToms] if actions is 4 the the shape is [batch_size,204]\n",
    "        out = self.fc_output(fc_1)\n",
    "        \n",
    "        # the reshape step were we reshape the output \n",
    "        out = tf.reshape(out,[batch_size,-1,ATOMS])\n",
    "        # apply the softmax function to the distribuation \n",
    "        return keras.activations.softmax(out,axis=2)\n"
   ]
  },
  {
   "cell_type": "code",
   "execution_count": 10,
   "metadata": {},
   "outputs": [
    {
     "name": "stderr",
     "output_type": "stream",
     "text": [
      "2024-02-24 22:54:15.307249: I metal_plugin/src/device/metal_device.cc:1154] Metal device set to: Apple M2\n",
      "2024-02-24 22:54:15.307293: I metal_plugin/src/device/metal_device.cc:296] systemMemory: 16.00 GB\n",
      "2024-02-24 22:54:15.307313: I metal_plugin/src/device/metal_device.cc:313] maxCacheSize: 5.33 GB\n",
      "2024-02-24 22:54:15.307410: I tensorflow/core/common_runtime/pluggable_device/pluggable_device_factory.cc:306] Could not identify NUMA node of platform GPU ID 0, defaulting to 0. Your kernel may not have been built with NUMA support.\n",
      "2024-02-24 22:54:15.307467: I tensorflow/core/common_runtime/pluggable_device/pluggable_device_factory.cc:272] Created TensorFlow device (/job:localhost/replica:0/task:0/device:GPU:0 with 0 MB memory) -> physical PluggableDevice (device: 0, name: METAL, pci bus id: <undefined>)\n"
     ]
    },
    {
     "name": "stdout",
     "output_type": "stream",
     "text": [
      "Model: \"categorical_dqn\"\n",
      "_________________________________________________________________\n",
      " Layer (type)                Output Shape              Param #   \n",
      "=================================================================\n",
      " sequential (Sequential)     (32, 3136)                77984     \n",
      "                                                                 \n",
      " dense (Dense)               multiple                  1606144   \n",
      "                                                                 \n",
      " dense_1 (Dense)             multiple                  104652    \n",
      "                                                                 \n",
      "=================================================================\n",
      "Total params: 1788780 (6.82 MB)\n",
      "Trainable params: 1788780 (6.82 MB)\n",
      "Non-trainable params: 0 (0.00 Byte)\n",
      "_________________________________________________________________\n"
     ]
    }
   ],
   "source": [
    "model=CategoricalDQN(ACTIONS*ATOMS)\n",
    "model_2=CategoricalDQN(ACTIONS*ATOMS)\n",
    "#this step is just to print the summary report \n",
    "model.build([BATCH_SIZE,WIDTH,HIGHT,CHANNELs])\n",
    "model_2.build([BATCH_SIZE,WIDTH,HIGHT,CHANNELs])\n",
    "model.summary()\n"
   ]
  },
  {
   "cell_type": "code",
   "execution_count": 11,
   "metadata": {},
   "outputs": [
    {
     "name": "stdout",
     "output_type": "stream",
     "text": [
      "The state shape :(32, 84, 84, 4) , The rewards shape is :(32,) , The dones shapes is : (32,) ,The actions shape is (32,)\n"
     ]
    }
   ],
   "source": [
    "# we creat toy data for depuging the code it's good practice to do.\n",
    "state=np.random.rand(BATCH_SIZE,WIDTH,HIGHT,CHANNELs)\n",
    "next_states=np.random.rand(BATCH_SIZE,WIDTH,HIGHT,CHANNELs)\n",
    "rewards=np.random.rand(BATCH_SIZE)\n",
    "dones=np.random.randint(0,2,size=BATCH_SIZE)\n",
    "actions=np.random.randint(0,4,size=BATCH_SIZE)\n",
    "print(\"The state shape :{} , The rewards shape is :{} , The dones shapes is : {} ,The actions shape is {}\".format(state.shape,rewards.shape,dones.shape,actions.shape))\n"
   ]
  },
  {
   "cell_type": "code",
   "execution_count": 12,
   "metadata": {},
   "outputs": [
    {
     "name": "stderr",
     "output_type": "stream",
     "text": [
      "WARNING:absl:At this time, the v2.11+ optimizer `tf.keras.optimizers.Adam` runs slowly on M1/M2 Macs, please use the legacy Keras optimizer instead, located at `tf.keras.optimizers.legacy.Adam`.\n"
     ]
    }
   ],
   "source": [
    "# The optimizer is Adam as it's less sensetive to the learning rate value. the step size still 0.00025\n",
    "optimizer=keras.optimizers.Adam(learning_rate=0.00025)\n"
   ]
  },
  {
   "cell_type": "code",
   "execution_count": 13,
   "metadata": {},
   "outputs": [],
   "source": [
    "def _epsilon_greedy_policy(state,epsilon):\n",
    "        \"\"\"\n",
    "        Is the epislon greedy policy whre we use epsilon value to chose an action\n",
    "        where we want to palance the exploration and explotation as possiable as we can.\n",
    "    \n",
    "        we pick random value alpha.\n",
    "            -if alpha < epsilon : chose random action\n",
    "             else argmax Q(state) for all action.\n",
    "        parameter :\n",
    "            -state: is the current state.\n",
    "            -epsilon : is the value of threshould between [0,1]\n",
    "        return :\n",
    "            the number of action to make \n",
    "    \n",
    "        \"\"\"\n",
    "        if np.random.rand()<epsilon:\n",
    "            return np.random.randint(ACTIONS)\n",
    "        else:\n",
    "            # hear we use the online model for prediction of best action.\n",
    "            # hears the model output is the Distribuation over each actions, so to get the best action\n",
    "            # we will get the mean over each distribuation then pick the best actions \n",
    "            propapility_dist=model(state[np.newaxis])\n",
    "            Q_values=tf.reduce_sum(propapility_dist*Z,axis=2)\n",
    "            return tf.argmax(Q_values[0]).numpy()\n"
   ]
  },
  {
   "cell_type": "code",
   "execution_count": 16,
   "metadata": {},
   "outputs": [
    {
     "data": {
      "text/plain": [
       "<function keras.src.losses.categorical_crossentropy(y_true, y_pred, from_logits=False, label_smoothing=0.0, axis=-1)>"
      ]
     },
     "execution_count": 16,
     "metadata": {},
     "output_type": "execute_result"
    }
   ],
   "source": [
    "cross_loss=keras.losses.kl_divergence\n",
    "keras.losses.categorical_crossentropy\n",
    "\n"
   ]
  },
  {
   "cell_type": "code",
   "execution_count": 17,
   "metadata": {},
   "outputs": [],
   "source": [
    "def distribution_projection(next_value_dist,rewards,gamma,dones):\n",
    "        batch_size=rewards.shape[0]\n",
    "        # in this line we calculate the next value return \n",
    "        T_Z=np.expand_dims(rewards,1)+ gamma*np.expand_dims((1-dones),1)*np.expand_dims(Z,0)\n",
    "        # clip the value in range [VMIN,VMAX]\n",
    "        clip_T_Z=np.clip(T_Z,VMIN,VMAX)\n",
    "        \n",
    "        # next return value postion  bj = (T_z - VMIN)/ Dz\n",
    "        value_dist_pos=(clip_T_Z-VMIN)/DELTA_Z\n",
    "        \n",
    "        # l= lower [bj] , u= upper [bj] \n",
    "        lower_bound=np.floor(value_dist_pos).astype(int)\n",
    "        upper_bound=np.ceil(value_dist_pos).astype(int)\n",
    "        \n",
    "        # this is the target distribuation  \n",
    "        target_distribuation = np.zeros((batch_size,ATOMS))\n",
    "        \n",
    "        for i in np.arange(batch_size):\n",
    "            for j in np.arange(ATOMS):\n",
    "                if lower_bound[i,j]==upper_bound[i,j]:\n",
    "                    target_distribuation[i,lower_bound[i,j]] += next_value_dist[i,j]\n",
    "                else:\n",
    "                    target_distribuation[i,lower_bound[i,j]]+=(next_value_dist[i,j]*(upper_bound-value_dist_pos)[i,j])\n",
    "                    target_distribuation[i,upper_bound[i,j]]+=(next_value_dist[i,j]*(value_dist_pos-lower_bound)[i,j])\n",
    "        return target_distribuation\n"
   ]
  },
  {
   "cell_type": "code",
   "execution_count": 18,
   "metadata": {},
   "outputs": [],
   "source": [
    "def training_step(gamma):\n",
    "        \"\"\"\n",
    "        This function is the responsible for doing one training step where we sample one batch from the replay buffer \n",
    "        then we push this batch in our model for forward step and apply gradiant with optimizer by hand.\n",
    "        \n",
    "        return :\n",
    "            None , where it's apply the change inplace for model parameter.\n",
    "        \"\"\"\n",
    "#       get the transition (xt,at,rt,donet,xt+1) , gamma_t in [0,1] \n",
    "#         states,actions,rewards,dones,next_states=sample_experiences()\n",
    "#       we add comment in the sample experiences just for testing as we mentioned before so \n",
    "#       so this function when we put in out agent return as befor.\n",
    "#       we need the batch size\n",
    "        batch_size=state.shape[0]\n",
    "        \n",
    "        # find the propability of the next state the output shape is [batch,action,atoms] and hear we use model in the agent we will use target model \n",
    "        # hear we calculate p(xt+1,a) but for the whole BATCH \n",
    "        next_value_dist=model(next_states) \n",
    "        \n",
    "        # this is the Q(Xt+1,a) = Sum_i (zi*pi(xt+1,a)) the shape is [Batch,Actions] this is the Q_value for all actions \n",
    "        next_Q_values=tf.reduce_sum(next_value_dist*Z,axis=2) \n",
    "        \n",
    "        # a* = argmax Q(xt+1,a) over a   the shape is [Batch , 1]\n",
    "        best_next_actions=tf.argmax(next_Q_values,axis=1).numpy()\n",
    "        \n",
    "        # find the action-value distribuation for just the best action pj(xt+1,a*)\n",
    "        next_value_dist=tf.stack([ next_value_dist[index,best_next_actions[index]] for index in np.arange(batch_size)]) # batch,ATOMS \n",
    "        \n",
    "        target_distribuation = distribution_projection(next_value_dist,rewards,gamma,dones)\n",
    "#         print(tf.reduce_sum(next_value_dist,axis=1).numpy())\n",
    "#         print(target_distribuation.sum(axis=1))\n",
    "        \n",
    "        with tf.GradientTape() as tape:\n",
    "            # compute the Q function for current state (hear for the whole batch).\n",
    "            all_value_dist=model(state)\n",
    "            # as befor find the value distribuation for the action we made \n",
    "            action_value_dist=tf.stack([ all_value_dist[index,actions[index]] for index in np.arange(batch_size)])\n",
    "            #computer the log for the propability distribuation for finding the loss \n",
    "            # log Pi(xt,at)\n",
    "            log_action_value=tf.math.log(action_value_dist)\n",
    "            # compute the loss using KLD \n",
    "            loss= tf.reduce_sum(-log_action_value*target_distribuation)\n",
    "            print(loss)\n",
    "        # compute the gradient for our  online_model parameter.\n",
    "        gradiants=tape.gradient(loss,model.trainable_variables)\n",
    "        # apply the optimization step using the gradient we compute for the online_model\n",
    "        optimizer.apply_gradients(zip(gradiants,model.trainable_variables))\n",
    "        return (target_distribuation,action_value_dist)\n"
   ]
  },
  {
   "cell_type": "code",
   "execution_count": 19,
   "metadata": {},
   "outputs": [
    {
     "name": "stdout",
     "output_type": "stream",
     "text": [
      "tf.Tensor(126.316696, shape=(), dtype=float32)\n"
     ]
    }
   ],
   "source": [
    "target,pred=None,None\n",
    "target,pred=training_step(0.9)\n"
   ]
  },
  {
   "cell_type": "code",
   "execution_count": 20,
   "metadata": {},
   "outputs": [
    {
     "data": {
      "image/png": "[encoded data removed]",
      "text/plain": [
       "<Figure size 640x480 with 1 Axes>"
      ]
     },
     "metadata": {},
     "output_type": "display_data"
    }
   ],
   "source": [
    "plt.plot((target[15]),color='red',label='target')\n",
    "plt.plot((pred.numpy()[15]),color='green',label='pred')\n",
    "plt.legend()\n",
    "plt.savefig(\"First_move.png\")\n"
   ]
  },
  {
   "cell_type": "code",
   "execution_count": 21,
   "metadata": {},
   "outputs": [
    {
     "name": "stdout",
     "output_type": "stream",
     "text": [
      "tf.Tensor(123.17909, shape=(), dtype=float32)\n",
      "tf.Tensor(119.86523, shape=(), dtype=float32)\n",
      "tf.Tensor(115.55362, shape=(), dtype=float32)\n",
      "tf.Tensor(109.83736, shape=(), dtype=float32)\n",
      "tf.Tensor(102.60779, shape=(), dtype=float32)\n",
      "tf.Tensor(94.16423, shape=(), dtype=float32)\n",
      "tf.Tensor(85.2961, shape=(), dtype=float32)\n",
      "tf.Tensor(76.43487, shape=(), dtype=float32)\n",
      "tf.Tensor(70.169495, shape=(), dtype=float32)\n",
      "tf.Tensor(67.10022, shape=(), dtype=float32)\n",
      "tf.Tensor(65.14897, shape=(), dtype=float32)\n",
      "tf.Tensor(63.960876, shape=(), dtype=float32)\n",
      "tf.Tensor(64.84377, shape=(), dtype=float32)\n",
      "tf.Tensor(66.52398, shape=(), dtype=float32)\n",
      "tf.Tensor(67.45445, shape=(), dtype=float32)\n",
      "tf.Tensor(68.36348, shape=(), dtype=float32)\n",
      "tf.Tensor(69.53273, shape=(), dtype=float32)\n",
      "tf.Tensor(70.228386, shape=(), dtype=float32)\n",
      "tf.Tensor(69.87836, shape=(), dtype=float32)\n"
     ]
    },
    {
     "ename": "KeyboardInterrupt",
     "evalue": "",
     "output_type": "error",
     "traceback": [
      "\u001b[0;31m---------------------------------------------------------------------------\u001b[0m",
      "\u001b[0;31mKeyboardInterrupt\u001b[0m                         Traceback (most recent call last)",
      "\u001b[0;32m/var/folders/by/wwwbwc016yxfhlbgfph7_xmc0000gn/T/ipykernel_87778/2255034805.py\u001b[0m in \u001b[0;36m?\u001b[0;34m()\u001b[0m\n\u001b[1;32m      1\u001b[0m \u001b[0;32mfor\u001b[0m \u001b[0mi\u001b[0m \u001b[0;32min\u001b[0m \u001b[0mrange\u001b[0m\u001b[0;34m(\u001b[0m\u001b[0;36m200\u001b[0m\u001b[0;34m)\u001b[0m\u001b[0;34m:\u001b[0m\u001b[0;34m\u001b[0m\u001b[0;34m\u001b[0m\u001b[0m\n\u001b[0;32m----> 2\u001b[0;31m     \u001b[0mtarget\u001b[0m\u001b[0;34m,\u001b[0m\u001b[0mpred\u001b[0m\u001b[0;34m=\u001b[0m\u001b[0mtraining_step\u001b[0m\u001b[0;34m(\u001b[0m\u001b[0;36m0.9\u001b[0m\u001b[0;34m)\u001b[0m\u001b[0;34m\u001b[0m\u001b[0;34m\u001b[0m\u001b[0m\n\u001b[0m",
      "\u001b[0;32m/var/folders/by/wwwbwc016yxfhlbgfph7_xmc0000gn/T/ipykernel_87778/2518379733.py\u001b[0m in \u001b[0;36m?\u001b[0;34m(gamma)\u001b[0m\n\u001b[1;32m     25\u001b[0m \u001b[0;34m\u001b[0m\u001b[0m\n\u001b[1;32m     26\u001b[0m         \u001b[0;31m# find the action-value distribuation for just the best action pj(xt+1,a*)\u001b[0m\u001b[0;34m\u001b[0m\u001b[0;34m\u001b[0m\u001b[0;34m\u001b[0m\u001b[0m\n\u001b[1;32m     27\u001b[0m         \u001b[0mnext_value_dist\u001b[0m\u001b[0;34m=\u001b[0m\u001b[0mtf\u001b[0m\u001b[0;34m.\u001b[0m\u001b[0mstack\u001b[0m\u001b[0;34m(\u001b[0m\u001b[0;34m[\u001b[0m \u001b[0mnext_value_dist\u001b[0m\u001b[0;34m[\u001b[0m\u001b[0mindex\u001b[0m\u001b[0;34m,\u001b[0m\u001b[0mbest_next_actions\u001b[0m\u001b[0;34m[\u001b[0m\u001b[0mindex\u001b[0m\u001b[0;34m]\u001b[0m\u001b[0;34m]\u001b[0m \u001b[0;32mfor\u001b[0m \u001b[0mindex\u001b[0m \u001b[0;32min\u001b[0m \u001b[0mnp\u001b[0m\u001b[0;34m.\u001b[0m\u001b[0marange\u001b[0m\u001b[0;34m(\u001b[0m\u001b[0mbatch_size\u001b[0m\u001b[0;34m)\u001b[0m\u001b[0;34m]\u001b[0m\u001b[0;34m)\u001b[0m \u001b[0;31m# batch,ATOMS\u001b[0m\u001b[0;34m\u001b[0m\u001b[0;34m\u001b[0m\u001b[0m\n\u001b[1;32m     28\u001b[0m \u001b[0;34m\u001b[0m\u001b[0m\n\u001b[0;32m---> 29\u001b[0;31m         \u001b[0mtarget_distribuation\u001b[0m \u001b[0;34m=\u001b[0m \u001b[0mdistribution_projection\u001b[0m\u001b[0;34m(\u001b[0m\u001b[0mnext_value_dist\u001b[0m\u001b[0;34m,\u001b[0m\u001b[0mrewards\u001b[0m\u001b[0;34m,\u001b[0m\u001b[0mgamma\u001b[0m\u001b[0;34m,\u001b[0m\u001b[0mdones\u001b[0m\u001b[0;34m)\u001b[0m\u001b[0;34m\u001b[0m\u001b[0;34m\u001b[0m\u001b[0m\n\u001b[0m\u001b[1;32m     30\u001b[0m \u001b[0;31m#         print(tf.reduce_sum(next_value_dist,axis=1).numpy())\u001b[0m\u001b[0;34m\u001b[0m\u001b[0;34m\u001b[0m\u001b[0;34m\u001b[0m\u001b[0m\n\u001b[1;32m     31\u001b[0m \u001b[0;31m#         print(target_distribuation.sum(axis=1))\u001b[0m\u001b[0;34m\u001b[0m\u001b[0;34m\u001b[0m\u001b[0;34m\u001b[0m\u001b[0m\n\u001b[1;32m     32\u001b[0m \u001b[0;34m\u001b[0m\u001b[0m\n",
      "\u001b[0;32m/var/folders/by/wwwbwc016yxfhlbgfph7_xmc0000gn/T/ipykernel_87778/2080267610.py\u001b[0m in \u001b[0;36m?\u001b[0;34m(next_value_dist, rewards, gamma, dones)\u001b[0m\n\u001b[1;32m     19\u001b[0m             \u001b[0;32mfor\u001b[0m \u001b[0mj\u001b[0m \u001b[0;32min\u001b[0m \u001b[0mnp\u001b[0m\u001b[0;34m.\u001b[0m\u001b[0marange\u001b[0m\u001b[0;34m(\u001b[0m\u001b[0mATOMS\u001b[0m\u001b[0;34m)\u001b[0m\u001b[0;34m:\u001b[0m\u001b[0;34m\u001b[0m\u001b[0;34m\u001b[0m\u001b[0m\n\u001b[1;32m     20\u001b[0m                 \u001b[0;32mif\u001b[0m \u001b[0mlower_bound\u001b[0m\u001b[0;34m[\u001b[0m\u001b[0mi\u001b[0m\u001b[0;34m,\u001b[0m\u001b[0mj\u001b[0m\u001b[0;34m]\u001b[0m\u001b[0;34m==\u001b[0m\u001b[0mupper_bound\u001b[0m\u001b[0;34m[\u001b[0m\u001b[0mi\u001b[0m\u001b[0;34m,\u001b[0m\u001b[0mj\u001b[0m\u001b[0;34m]\u001b[0m\u001b[0;34m:\u001b[0m\u001b[0;34m\u001b[0m\u001b[0;34m\u001b[0m\u001b[0m\n\u001b[1;32m     21\u001b[0m                     \u001b[0mtarget_distribuation\u001b[0m\u001b[0;34m[\u001b[0m\u001b[0mi\u001b[0m\u001b[0;34m,\u001b[0m\u001b[0mlower_bound\u001b[0m\u001b[0;34m[\u001b[0m\u001b[0mi\u001b[0m\u001b[0;34m,\u001b[0m\u001b[0mj\u001b[0m\u001b[0;34m]\u001b[0m\u001b[0;34m]\u001b[0m \u001b[0;34m+=\u001b[0m \u001b[0mnext_value_dist\u001b[0m\u001b[0;34m[\u001b[0m\u001b[0mi\u001b[0m\u001b[0;34m,\u001b[0m\u001b[0mj\u001b[0m\u001b[0;34m]\u001b[0m\u001b[0;34m\u001b[0m\u001b[0;34m\u001b[0m\u001b[0m\n\u001b[1;32m     22\u001b[0m                 \u001b[0;32melse\u001b[0m\u001b[0;34m:\u001b[0m\u001b[0;34m\u001b[0m\u001b[0;34m\u001b[0m\u001b[0m\n\u001b[0;32m---> 23\u001b[0;31m                     \u001b[0mtarget_distribuation\u001b[0m\u001b[0;34m[\u001b[0m\u001b[0mi\u001b[0m\u001b[0;34m,\u001b[0m\u001b[0mlower_bound\u001b[0m\u001b[0;34m[\u001b[0m\u001b[0mi\u001b[0m\u001b[0;34m,\u001b[0m\u001b[0mj\u001b[0m\u001b[0;34m]\u001b[0m\u001b[0;34m]\u001b[0m\u001b[0;34m+=\u001b[0m\u001b[0;34m(\u001b[0m\u001b[0mnext_value_dist\u001b[0m\u001b[0;34m[\u001b[0m\u001b[0mi\u001b[0m\u001b[0;34m,\u001b[0m\u001b[0mj\u001b[0m\u001b[0;34m]\u001b[0m\u001b[0;34m*\u001b[0m\u001b[0;34m(\u001b[0m\u001b[0mupper_bound\u001b[0m\u001b[0;34m-\u001b[0m\u001b[0mvalue_dist_pos\u001b[0m\u001b[0;34m)\u001b[0m\u001b[0;34m[\u001b[0m\u001b[0mi\u001b[0m\u001b[0;34m,\u001b[0m\u001b[0mj\u001b[0m\u001b[0;34m]\u001b[0m\u001b[0;34m)\u001b[0m\u001b[0;34m\u001b[0m\u001b[0;34m\u001b[0m\u001b[0m\n\u001b[0m\u001b[1;32m     24\u001b[0m                     \u001b[0mtarget_distribuation\u001b[0m\u001b[0;34m[\u001b[0m\u001b[0mi\u001b[0m\u001b[0;34m,\u001b[0m\u001b[0mupper_bound\u001b[0m\u001b[0;34m[\u001b[0m\u001b[0mi\u001b[0m\u001b[0;34m,\u001b[0m\u001b[0mj\u001b[0m\u001b[0;34m]\u001b[0m\u001b[0;34m]\u001b[0m\u001b[0;34m+=\u001b[0m\u001b[0;34m(\u001b[0m\u001b[0mnext_value_dist\u001b[0m\u001b[0;34m[\u001b[0m\u001b[0mi\u001b[0m\u001b[0;34m,\u001b[0m\u001b[0mj\u001b[0m\u001b[0;34m]\u001b[0m\u001b[0;34m*\u001b[0m\u001b[0;34m(\u001b[0m\u001b[0mvalue_dist_pos\u001b[0m\u001b[0;34m-\u001b[0m\u001b[0mlower_bound\u001b[0m\u001b[0;34m)\u001b[0m\u001b[0;34m[\u001b[0m\u001b[0mi\u001b[0m\u001b[0;34m,\u001b[0m\u001b[0mj\u001b[0m\u001b[0;34m]\u001b[0m\u001b[0;34m)\u001b[0m\u001b[0;34m\u001b[0m\u001b[0;34m\u001b[0m\u001b[0m\n\u001b[1;32m     25\u001b[0m         \u001b[0;32mreturn\u001b[0m \u001b[0mtarget_distribuation\u001b[0m\u001b[0;34m\u001b[0m\u001b[0;34m\u001b[0m\u001b[0m\n",
      "\u001b[0;32m~/Library/Python/3.9/lib/python/site-packages/tensorflow/python/util/traceback_utils.py\u001b[0m in \u001b[0;36m?\u001b[0;34m(*args, **kwargs)\u001b[0m\n\u001b[1;32m    151\u001b[0m     \u001b[0;32mexcept\u001b[0m \u001b[0mException\u001b[0m \u001b[0;32mas\u001b[0m \u001b[0me\u001b[0m\u001b[0;34m:\u001b[0m\u001b[0;34m\u001b[0m\u001b[0;34m\u001b[0m\u001b[0m\n\u001b[1;32m    152\u001b[0m       \u001b[0mfiltered_tb\u001b[0m \u001b[0;34m=\u001b[0m \u001b[0m_process_traceback_frames\u001b[0m\u001b[0;34m(\u001b[0m\u001b[0me\u001b[0m\u001b[0;34m.\u001b[0m\u001b[0m__traceback__\u001b[0m\u001b[0;34m)\u001b[0m\u001b[0;34m\u001b[0m\u001b[0;34m\u001b[0m\u001b[0m\n\u001b[1;32m    153\u001b[0m       \u001b[0;32mraise\u001b[0m \u001b[0me\u001b[0m\u001b[0;34m.\u001b[0m\u001b[0mwith_traceback\u001b[0m\u001b[0;34m(\u001b[0m\u001b[0mfiltered_tb\u001b[0m\u001b[0;34m)\u001b[0m \u001b[0;32mfrom\u001b[0m \u001b[0;32mNone\u001b[0m\u001b[0;34m\u001b[0m\u001b[0;34m\u001b[0m\u001b[0m\n\u001b[1;32m    154\u001b[0m     \u001b[0;32mfinally\u001b[0m\u001b[0;34m:\u001b[0m\u001b[0;34m\u001b[0m\u001b[0;34m\u001b[0m\u001b[0m\n\u001b[0;32m--> 155\u001b[0;31m       \u001b[0;32mdel\u001b[0m \u001b[0mfiltered_tb\u001b[0m\u001b[0;34m\u001b[0m\u001b[0;34m\u001b[0m\u001b[0m\n\u001b[0m",
      "\u001b[0;32m~/Library/Python/3.9/lib/python/site-packages/tensorflow/python/util/dispatch.py\u001b[0m in \u001b[0;36m?\u001b[0;34m(*args, **kwargs)\u001b[0m\n\u001b[1;32m   1264\u001b[0m         \u001b[0mresult\u001b[0m \u001b[0;34m=\u001b[0m \u001b[0mdispatch\u001b[0m\u001b[0;34m(\u001b[0m\u001b[0mop_dispatch_handler\u001b[0m\u001b[0;34m,\u001b[0m \u001b[0margs\u001b[0m\u001b[0;34m,\u001b[0m \u001b[0mkwargs\u001b[0m\u001b[0;34m)\u001b[0m\u001b[0;34m\u001b[0m\u001b[0;34m\u001b[0m\u001b[0m\n\u001b[1;32m   1265\u001b[0m         \u001b[0;32mif\u001b[0m \u001b[0mresult\u001b[0m \u001b[0;32mis\u001b[0m \u001b[0;32mnot\u001b[0m \u001b[0mOpDispatcher\u001b[0m\u001b[0;34m.\u001b[0m\u001b[0mNOT_SUPPORTED\u001b[0m\u001b[0;34m:\u001b[0m\u001b[0;34m\u001b[0m\u001b[0;34m\u001b[0m\u001b[0m\n\u001b[1;32m   1266\u001b[0m           \u001b[0;32mreturn\u001b[0m \u001b[0mresult\u001b[0m\u001b[0;34m\u001b[0m\u001b[0;34m\u001b[0m\u001b[0m\n\u001b[1;32m   1267\u001b[0m         \u001b[0;32melse\u001b[0m\u001b[0;34m:\u001b[0m\u001b[0;34m\u001b[0m\u001b[0;34m\u001b[0m\u001b[0m\n\u001b[0;32m-> 1268\u001b[0;31m           \u001b[0;32mraise\u001b[0m\u001b[0;34m\u001b[0m\u001b[0;34m\u001b[0m\u001b[0m\n\u001b[0m",
      "\u001b[0;32m~/Library/Python/3.9/lib/python/site-packages/tensorflow/python/ops/array_ops.py\u001b[0m in \u001b[0;36m?\u001b[0;34m(tensor, slice_spec, var)\u001b[0m\n\u001b[1;32m   1152\u001b[0m           \u001b[0mpacked_strides\u001b[0m \u001b[0;34m=\u001b[0m \u001b[0mgen_math_ops\u001b[0m\u001b[0;34m.\u001b[0m\u001b[0mcast\u001b[0m\u001b[0;34m(\u001b[0m\u001b[0mpacked_strides\u001b[0m\u001b[0;34m,\u001b[0m \u001b[0mdtypes\u001b[0m\u001b[0;34m.\u001b[0m\u001b[0mint16\u001b[0m\u001b[0;34m)\u001b[0m\u001b[0;34m\u001b[0m\u001b[0;34m\u001b[0m\u001b[0m\n\u001b[1;32m   1153\u001b[0m     \u001b[0;32melse\u001b[0m\u001b[0;34m:\u001b[0m\u001b[0;34m\u001b[0m\u001b[0;34m\u001b[0m\u001b[0m\n\u001b[1;32m   1154\u001b[0m       \u001b[0mvar_empty\u001b[0m \u001b[0;34m=\u001b[0m \u001b[0mconstant\u001b[0m\u001b[0;34m(\u001b[0m\u001b[0;34m[\u001b[0m\u001b[0;34m]\u001b[0m\u001b[0;34m,\u001b[0m \u001b[0mdtype\u001b[0m\u001b[0;34m=\u001b[0m\u001b[0mdtypes\u001b[0m\u001b[0;34m.\u001b[0m\u001b[0mint32\u001b[0m\u001b[0;34m)\u001b[0m\u001b[0;34m\u001b[0m\u001b[0;34m\u001b[0m\u001b[0m\n\u001b[1;32m   1155\u001b[0m       \u001b[0mpacked_begin\u001b[0m \u001b[0;34m=\u001b[0m \u001b[0mpacked_end\u001b[0m \u001b[0;34m=\u001b[0m \u001b[0mpacked_strides\u001b[0m \u001b[0;34m=\u001b[0m \u001b[0mvar_empty\u001b[0m\u001b[0;34m\u001b[0m\u001b[0;34m\u001b[0m\u001b[0m\n\u001b[0;32m-> 1156\u001b[0;31m     return strided_slice(\n\u001b[0m\u001b[1;32m   1157\u001b[0m         \u001b[0mtensor\u001b[0m\u001b[0;34m,\u001b[0m\u001b[0;34m\u001b[0m\u001b[0;34m\u001b[0m\u001b[0m\n\u001b[1;32m   1158\u001b[0m         \u001b[0mpacked_begin\u001b[0m\u001b[0;34m,\u001b[0m\u001b[0;34m\u001b[0m\u001b[0;34m\u001b[0m\u001b[0m\n\u001b[1;32m   1159\u001b[0m         \u001b[0mpacked_end\u001b[0m\u001b[0;34m,\u001b[0m\u001b[0;34m\u001b[0m\u001b[0;34m\u001b[0m\u001b[0m\n",
      "\u001b[0;32m~/Library/Python/3.9/lib/python/site-packages/tensorflow/python/util/traceback_utils.py\u001b[0m in \u001b[0;36m?\u001b[0;34m(*args, **kwargs)\u001b[0m\n\u001b[1;32m    151\u001b[0m     \u001b[0;32mexcept\u001b[0m \u001b[0mException\u001b[0m \u001b[0;32mas\u001b[0m \u001b[0me\u001b[0m\u001b[0;34m:\u001b[0m\u001b[0;34m\u001b[0m\u001b[0;34m\u001b[0m\u001b[0m\n\u001b[1;32m    152\u001b[0m       \u001b[0mfiltered_tb\u001b[0m \u001b[0;34m=\u001b[0m \u001b[0m_process_traceback_frames\u001b[0m\u001b[0;34m(\u001b[0m\u001b[0me\u001b[0m\u001b[0;34m.\u001b[0m\u001b[0m__traceback__\u001b[0m\u001b[0;34m)\u001b[0m\u001b[0;34m\u001b[0m\u001b[0;34m\u001b[0m\u001b[0m\n\u001b[1;32m    153\u001b[0m       \u001b[0;32mraise\u001b[0m \u001b[0me\u001b[0m\u001b[0;34m.\u001b[0m\u001b[0mwith_traceback\u001b[0m\u001b[0;34m(\u001b[0m\u001b[0mfiltered_tb\u001b[0m\u001b[0;34m)\u001b[0m \u001b[0;32mfrom\u001b[0m \u001b[0;32mNone\u001b[0m\u001b[0;34m\u001b[0m\u001b[0;34m\u001b[0m\u001b[0m\n\u001b[1;32m    154\u001b[0m     \u001b[0;32mfinally\u001b[0m\u001b[0;34m:\u001b[0m\u001b[0;34m\u001b[0m\u001b[0;34m\u001b[0m\u001b[0m\n\u001b[0;32m--> 155\u001b[0;31m       \u001b[0;32mdel\u001b[0m \u001b[0mfiltered_tb\u001b[0m\u001b[0;34m\u001b[0m\u001b[0;34m\u001b[0m\u001b[0m\n\u001b[0m",
      "\u001b[0;32m~/Library/Python/3.9/lib/python/site-packages/tensorflow/python/util/dispatch.py\u001b[0m in \u001b[0;36m?\u001b[0;34m(*args, **kwargs)\u001b[0m\n\u001b[1;32m   1264\u001b[0m         \u001b[0mresult\u001b[0m \u001b[0;34m=\u001b[0m \u001b[0mdispatch\u001b[0m\u001b[0;34m(\u001b[0m\u001b[0mop_dispatch_handler\u001b[0m\u001b[0;34m,\u001b[0m \u001b[0margs\u001b[0m\u001b[0;34m,\u001b[0m \u001b[0mkwargs\u001b[0m\u001b[0;34m)\u001b[0m\u001b[0;34m\u001b[0m\u001b[0;34m\u001b[0m\u001b[0m\n\u001b[1;32m   1265\u001b[0m         \u001b[0;32mif\u001b[0m \u001b[0mresult\u001b[0m \u001b[0;32mis\u001b[0m \u001b[0;32mnot\u001b[0m \u001b[0mOpDispatcher\u001b[0m\u001b[0;34m.\u001b[0m\u001b[0mNOT_SUPPORTED\u001b[0m\u001b[0;34m:\u001b[0m\u001b[0;34m\u001b[0m\u001b[0;34m\u001b[0m\u001b[0m\n\u001b[1;32m   1266\u001b[0m           \u001b[0;32mreturn\u001b[0m \u001b[0mresult\u001b[0m\u001b[0;34m\u001b[0m\u001b[0;34m\u001b[0m\u001b[0m\n\u001b[1;32m   1267\u001b[0m         \u001b[0;32melse\u001b[0m\u001b[0;34m:\u001b[0m\u001b[0;34m\u001b[0m\u001b[0;34m\u001b[0m\u001b[0m\n\u001b[0;32m-> 1268\u001b[0;31m           \u001b[0;32mraise\u001b[0m\u001b[0;34m\u001b[0m\u001b[0;34m\u001b[0m\u001b[0m\n\u001b[0m",
      "\u001b[0;32m~/Library/Python/3.9/lib/python/site-packages/tensorflow/python/ops/array_ops.py\u001b[0m in \u001b[0;36m?\u001b[0;34m(input_, begin, end, strides, begin_mask, end_mask, ellipsis_mask, new_axis_mask, shrink_axis_mask, var, name)\u001b[0m\n\u001b[1;32m   1325\u001b[0m \u001b[0;34m\u001b[0m\u001b[0m\n\u001b[1;32m   1326\u001b[0m   \u001b[0;32mif\u001b[0m \u001b[0mstrides\u001b[0m \u001b[0;32mis\u001b[0m \u001b[0;32mNone\u001b[0m\u001b[0;34m:\u001b[0m\u001b[0;34m\u001b[0m\u001b[0;34m\u001b[0m\u001b[0m\n\u001b[1;32m   1327\u001b[0m     \u001b[0mstrides\u001b[0m \u001b[0;34m=\u001b[0m \u001b[0mones_like\u001b[0m\u001b[0;34m(\u001b[0m\u001b[0mbegin\u001b[0m\u001b[0;34m)\u001b[0m\u001b[0;34m\u001b[0m\u001b[0;34m\u001b[0m\u001b[0m\n\u001b[1;32m   1328\u001b[0m \u001b[0;34m\u001b[0m\u001b[0m\n\u001b[0;32m-> 1329\u001b[0;31m   op = gen_array_ops.strided_slice(\n\u001b[0m\u001b[1;32m   1330\u001b[0m       \u001b[0minput\u001b[0m\u001b[0;34m=\u001b[0m\u001b[0minput_\u001b[0m\u001b[0;34m,\u001b[0m\u001b[0;34m\u001b[0m\u001b[0;34m\u001b[0m\u001b[0m\n\u001b[1;32m   1331\u001b[0m       \u001b[0mbegin\u001b[0m\u001b[0;34m=\u001b[0m\u001b[0mbegin\u001b[0m\u001b[0;34m,\u001b[0m\u001b[0;34m\u001b[0m\u001b[0;34m\u001b[0m\u001b[0m\n\u001b[1;32m   1332\u001b[0m       \u001b[0mend\u001b[0m\u001b[0;34m=\u001b[0m\u001b[0mend\u001b[0m\u001b[0;34m,\u001b[0m\u001b[0;34m\u001b[0m\u001b[0;34m\u001b[0m\u001b[0m\n",
      "\u001b[0;32m~/Library/Python/3.9/lib/python/site-packages/tensorflow/python/ops/gen_array_ops.py\u001b[0m in \u001b[0;36m?\u001b[0;34m(input, begin, end, strides, begin_mask, end_mask, ellipsis_mask, new_axis_mask, shrink_axis_mask, name)\u001b[0m\n\u001b[1;32m  10935\u001b[0m       \u001b[0;32mreturn\u001b[0m \u001b[0m_result\u001b[0m\u001b[0;34m\u001b[0m\u001b[0;34m\u001b[0m\u001b[0m\n\u001b[1;32m  10936\u001b[0m     \u001b[0;32mexcept\u001b[0m \u001b[0m_core\u001b[0m\u001b[0;34m.\u001b[0m\u001b[0m_NotOkStatusException\u001b[0m \u001b[0;32mas\u001b[0m \u001b[0me\u001b[0m\u001b[0;34m:\u001b[0m\u001b[0;34m\u001b[0m\u001b[0;34m\u001b[0m\u001b[0m\n\u001b[1;32m  10937\u001b[0m       \u001b[0m_ops\u001b[0m\u001b[0;34m.\u001b[0m\u001b[0mraise_from_not_ok_status\u001b[0m\u001b[0;34m(\u001b[0m\u001b[0me\u001b[0m\u001b[0;34m,\u001b[0m \u001b[0mname\u001b[0m\u001b[0;34m)\u001b[0m\u001b[0;34m\u001b[0m\u001b[0;34m\u001b[0m\u001b[0m\n\u001b[1;32m  10938\u001b[0m     \u001b[0;32mexcept\u001b[0m \u001b[0m_core\u001b[0m\u001b[0;34m.\u001b[0m\u001b[0m_FallbackException\u001b[0m\u001b[0;34m:\u001b[0m\u001b[0;34m\u001b[0m\u001b[0;34m\u001b[0m\u001b[0m\n\u001b[0;32m> 10939\u001b[0;31m       \u001b[0;32mpass\u001b[0m\u001b[0;34m\u001b[0m\u001b[0;34m\u001b[0m\u001b[0m\n\u001b[0m\u001b[1;32m  10940\u001b[0m     \u001b[0;32mtry\u001b[0m\u001b[0;34m:\u001b[0m\u001b[0;34m\u001b[0m\u001b[0;34m\u001b[0m\u001b[0m\n\u001b[1;32m  10941\u001b[0m       return strided_slice_eager_fallback(\n\u001b[1;32m  10942\u001b[0m           \u001b[0minput\u001b[0m\u001b[0;34m,\u001b[0m \u001b[0mbegin\u001b[0m\u001b[0;34m,\u001b[0m \u001b[0mend\u001b[0m\u001b[0;34m,\u001b[0m \u001b[0mstrides\u001b[0m\u001b[0;34m,\u001b[0m \u001b[0mbegin_mask\u001b[0m\u001b[0;34m=\u001b[0m\u001b[0mbegin_mask\u001b[0m\u001b[0;34m,\u001b[0m\u001b[0;34m\u001b[0m\u001b[0;34m\u001b[0m\u001b[0m\n",
      "\u001b[0;31mKeyboardInterrupt\u001b[0m: "
     ]
    },
    {
     "ename": "",
     "evalue": "",
     "output_type": "error",
     "traceback": [
      "\u001b[1;31mThe Kernel crashed while executing code in the current cell or a previous cell. \n",
      "\u001b[1;31mPlease review the code in the cell(s) to identify a possible cause of the failure. \n",
      "\u001b[1;31mClick <a href='https://aka.ms/vscodeJupyterKernelCrash'>here</a> for more info. \n",
      "\u001b[1;31mView Jupyter <a href='command:jupyter.viewOutput'>log</a> for further details."
     ]
    }
   ],
   "source": [
    "for i in range(200):\n",
    "    target,pred=training_step(0.9)\n"
   ]
  },
  {
   "cell_type": "code",
   "execution_count": null,
   "metadata": {},
   "outputs": [],
   "source": [
    "plt.plot((target[15]),color='red',label='target')\n",
    "plt.plot((pred.numpy()[15]),color='green',label='pred')\n",
    "plt.legend()\n",
    "plt.savefig(\"last_move.png\")\n"
   ]
  },
  {
   "cell_type": "code",
   "execution_count": null,
   "metadata": {},
   "outputs": [],
   "source": [
    "action_value_dist.numpy()[0]\n"
   ]
  },
  {
   "cell_type": "code",
   "execution_count": null,
   "metadata": {},
   "outputs": [],
   "source": [
    "class Agent:\n",
    "    def __init__(self,environment,model,model_2,discount_factor=0.99,learning_rate=0.00025,episode=10000,batch_size=32,replay_size=1000000,staked_frame=4,fixed_epsilon=None,model_checkpoint='DQN_wights.h5',up=25,down=10,left=5,right=5,update_steps=50):\n",
    "        #the environment simulator \n",
    "        self.env=environment\n",
    "        # hear we made the first change where we have 2 model instead of one model the online_model and target_model \n",
    "        #  the first one it's using for compute Q_value function at each time step while the other to just compute the target.\n",
    "        self.online_model=model\n",
    "        # the second model is the target model have the same structure of the online model and the same inial parameter.\n",
    "        self.target_model=model_2\n",
    "        self.target_model.set_weights(model.get_weights())\n",
    "        # the discout factor in the Q-learning algorithem\n",
    "        self.discount_factor=discount_factor\n",
    "        # the number of episod to run as the number of epochs in supervised learning \n",
    "        self.episodes=episode\n",
    "        # onather update to the previouse alogorithem where we need parameter that difine the update rate for the target model.\n",
    "        self.update_rate=update_steps\n",
    "    \n",
    "        self.batch_size=batch_size\n",
    "        # the memory where we save the observations for training \n",
    "        self.replay_buffer=deque(maxlen=replay_size)\n",
    "        # the deque used for state creation where we stacked last 4 frames togather \n",
    "        self.stacked_blocks=deque(maxlen=staked_frame)\n",
    "        # if we want to stack more or less frame togather in other world if we want the state more complex or simpler.\n",
    "        self.stacked_size=staked_frame\n",
    "        # if we want the epsilon parameter constant during the training else the parameter will change during the training.\n",
    "        self.fixed_epsilon=fixed_epsilon\n",
    "        # the action space it's represent the number neuron in the output layer becouse Q function is maping from state to actions. \n",
    "        self.action_space=environment.action_space.n\n",
    "        # it's rewards list where we save the reward from each episod ( from each epochs )\n",
    "        self.rewards_list=[]\n",
    "        # the loss function using to compute the gradiant of the model is KLD not MSE and we compute manualy.\n",
    "        # self.loss_function=tf.losses.mean_squared_error\n",
    "#---->   the optimizer using to update the parameter is no longer RMSprop.\n",
    "        self.optimizer=tf.optimizers.Adam(learning_rate=learning_rate)\n",
    "        # it's the file path, where we save the model weights\n",
    "        self.model_checkpoint=model_checkpoint\n",
    "        # these four parameter we use for croping the edges of the frame  \n",
    "        self.up=up\n",
    "        self.down=-down\n",
    "        self.left=left\n",
    "        self.right=-right\n",
    "    \n",
    "    def _preprocess_frame(self,frame):\n",
    "        \"\"\"\n",
    "        this function make preprocessing step for each frame from the game.\n",
    "        parameter: \n",
    "            -frame: is a row frame with [210*64*3] size which provided by the environment, after we make an action that change the world\n",
    "            the environmnt brovide us by new observation after apply that action.\n",
    "        return :\n",
    "            image: processing frame where we cut some of border and keep the play area and change the image to gray scale \n",
    "            then resize it to [84,84] shape and finaly normalize pixel value to become in the range [0-1] \n",
    "        \"\"\"\n",
    "        # cut the porder and keep the play area\n",
    "        image=frame[self.up:self.down,self.left:self.right,:]\n",
    "        image=tf.image.rgb_to_grayscale(image)\n",
    "        image=tf.image.resize(image,[84,84])\n",
    "        # reshape becouse it's tensor [84,84,1] and we want [84,84] for make the stacking operation easy\n",
    "        image=tf.reshape(image,[84,84])\n",
    "        # normalizing step\n",
    "        image=image/255.0\n",
    "        return image\n",
    "    \n",
    "    def ploting_function_one(frame):\n",
    "        \"\"\"\n",
    "        is the same as preprocessing function but we use it for viualization stuf.\n",
    "        \"\"\"\n",
    "        image=frame[25:,:,:]\n",
    "        image=cv2.cvtColor(image,cv2.COLOR_RGB2GRAY)\n",
    "        image=cv2.resize(image,(85,85))\n",
    "        return image\n",
    "    \n",
    "    \n",
    "    def _state_creator(self,frame,is_new_episod):\n",
    "        \"\"\"\n",
    "        this function we stack last 4 frame togather to perform on state and that give us some intuition about vilocity.\n",
    "        parameter :\n",
    "            -frame :which is the game observation.\n",
    "            -is_new_episod: boolean parameter that check if there is no previous frame and that happend in bragning of each episod.\n",
    "        \n",
    "        return :\n",
    "            state: tensor with [84,84,4] shape which represent the state of our world.\n",
    "        \"\"\"\n",
    "        # first preprocessing the frame.\n",
    "        image=self._preprocess_frame(frame)\n",
    "        # if it's new episod then stack the first frame four time \n",
    "        if is_new_episod:\n",
    "            for i in range(self.stacked_size):\n",
    "                self.stacked_blocks.append(image)\n",
    "                \n",
    "        # just push the last frame so the first frame get out from the deque\n",
    "        else:\n",
    "            self.stacked_blocks.append(image)\n",
    "            \n",
    "        # stacked the frames togather in one tensor [84,84,4]\n",
    "        state=tf.stack(self.stacked_blocks,axis=2)\n",
    "        \n",
    "        return state\n",
    "    \n",
    "    def _sample_experiences(self):\n",
    "        \"\"\"\n",
    "        This function is use to sample batch from our memory.\n",
    "        \n",
    "        return:\n",
    "            -states:it's tensore [batch_size,image_width,image_height,stacked_size] in our case [32,84,84,4]\n",
    "            -actions: it's 2D array [batch_size,action] it's the action in each state in our batch\n",
    "            -rewards: it's 2D array [batch_size,reward] it's the reward in each state in out batch\n",
    "            -dones : it's 2D array [batch_size, done ] where done is boolean value help us to compute the target.\n",
    "            -next_state: it's tensore [batch_size,image_width,image_height,stacked_size] in our case [32,84,84,4]\n",
    "        \"\"\"\n",
    "        # radnom indices from the replay buffer\n",
    "        indices=np.random.randint(len(self.replay_buffer),size=self.batch_size)\n",
    "        batch=[self.replay_buffer[index] for index in indices]\n",
    "        # we combine the experiance togather where the buffer have tuple like this (state,action,reward,done,next_state)\n",
    "        states,actions,rewords,dones,next_states=[np.array([experiance[field_index] for experiance in batch]) for field_index in range(5)]\n",
    "        return states,actions,rewords,dones,next_states\n",
    "    \n",
    "    \n",
    "    \n",
    "    def _epsilon_greedy_policy(self,state,epsilon):\n",
    "        \"\"\"\n",
    "        Is the epislon greedy policy whre we use epsilon value to chose an action\n",
    "        where we want to palance the exploration and explotation as possiable as we can.\n",
    "    \n",
    "        we pick random value alpha.\n",
    "            -if alpha < epsilon : chose random action\n",
    "             else argmax Q(state) for all action.\n",
    "        parameter :\n",
    "            -state: is the current state.\n",
    "            -epsilon : is the value of threshould between [0,1]\n",
    "        return :\n",
    "            the number of action to make \n",
    "    \n",
    "        \"\"\"\n",
    "        if np.random.rand()<epsilon:\n",
    "            return np.random.randint(self.action_space)\n",
    "        else:\n",
    "            # hear we use the online model for prediction of best action.\n",
    "            # hears the model output is the Distribuation over each actions, so to get the best action\n",
    "            # we will get the mean over each distribuation then pick the best actions \n",
    "            propapility_dist=self.online_model(state[np.newaxis])\n",
    "            Q_values=tf.reduce_sum(propapility_dist*Z,axis=2)\n",
    "            return tf.argmax(Q_values[0]).numpy()\n",
    "    \n",
    "    def _play_one_step(self,state,epsilon):      \n",
    "      action=self._epsilon_greedy_policy(state,epsilon)\n",
    "      next_state,reward,done,info=self.env.step(action)\n",
    "      # we do that becouse we need True done value for computing the target for the model.\n",
    "      if info['ale.lives']< 5:\n",
    "          done=True\n",
    "      stacked_next_state=self._state_creator(next_state,False)\n",
    "      self.replay_buffer.append((state,action,reward,done,stacked_next_state))\n",
    "      return stacked_next_state,reward,done,info\n",
    "    \n",
    "    def _training_step(self):\n",
    "        \"\"\"\n",
    "        This function is the responsible for doing one training step where we sample one batch from the replay buffer \n",
    "        then we push this batch in our model for forward step and apply gradiant with optimizer by hand.\n",
    "        \n",
    "        return :\n",
    "            None , where it's apply the change inplace for model parameter.\n",
    "        \"\"\"\n",
    "        # get the transition (xt,at,rt,donet,xt+1) , gamma_t in [0,1] \n",
    "        states,actions,rewards,dones,next_states=self._sample_experiences()\n",
    "        # we need the batch size\n",
    "        batch_size=state.shape[0]\n",
    "        # find the propability of the next state the output shape is [batch,action,atoms] and hear we use model in the agent we will use target model \n",
    "        # hear we calculate p(xt+1,a) but for the whole BATCH \n",
    "        next_value_dist=self.target_model(next_states) \n",
    "        # this is the Q(Xt+1,a) = Sum_i (zi*pi(xt+1,a)) the shape is [Batch,Actions] this is the Q_value for all actions \n",
    "        next_Q_values=tf.reduce_sum(next_value_dist*Z,axis=2) \n",
    "        # a* = argmax Q(xt+1,a) over a   the shape is [Batch , 1]\n",
    "        best_next_actions=tf.argmax(next_Q_values,axis=1).numpy()\n",
    "        # find the action-value distribuation for just the best action pj(xt+1,a*)\n",
    "        next_value_dist=tf.stack([ next_value_dist[index,best_next_actions[index]] for index in np.arange(batch_size)]) # batch,ATOMS \n",
    "        # in this line we calculate the next value return [rt + gamma_t * zj ]\n",
    "        T_Z=np.expand_dims(rewards,1)+ self.discount_factor * np.expand_dims((1-dones),1)*np.expand_dims(Z,0)\n",
    "        # clip the value in range [VMIN,VMAX]\n",
    "        clip_T_Z=np.clip(T_Z,VMIN,VMAX)\n",
    "        # next return value postion  bj = (T_z - VMIN)/ Dz\n",
    "        value_dist_pos=(clip_T_Z-VMIN)/DELTA_Z\n",
    "        \n",
    "        # l= lower [bj] , u= upper [bj] \n",
    "        lower_bound=np.floor(value_dist_pos).astype(int)\n",
    "        upper_bound=np.ceil(value_dist_pos).astype(int)\n",
    "        \n",
    "        # this is the target distribuation  \n",
    "        target_distribuation = np.zeros((batch_size,ATOMS))\n",
    "        \n",
    "        for i in np.arange(batch_size):\n",
    "            for j in np.arange(ATOMS):\n",
    "                target_distribuation[i,lower_bound[i,j]]+=(next_value_dist[i,j]*(value_dist_pos-lower_bound)[i,j])\n",
    "                target_distribuation[i,upper_bound[i,j]]+=(next_value_dist[i,j]*(upper_bound-value_dist_pos)[i,j])\n",
    "        \n",
    "        with tf.GradientTape() as tape:\n",
    "            # compute the Q function for current state (hear for the whole batch).\n",
    "            all_value_dist=self.online_model(state)\n",
    "            # as befor find the value distribuation for the action we made \n",
    "            action_value_dist=tf.stack([ all_value_dist[index,actions[index]] for index in np.arange(batch_size)])\n",
    "            #computer the log for the propability distribuation for finding the loss \n",
    "            # log Pi(xt,at)\n",
    "            log_action_value=tf.math.log(action_value_dist)\n",
    "            # compute the loss using KLD \n",
    "            loss= tf.reduce_sum(-log_action_value*target_distribuation)\n",
    "        # compute the gradient for our  online_model parameter.\n",
    "        gradiants=tape.gradient(loss,model.trainable_variables)\n",
    "        # apply the optimization step using the gradient we compute for the online_model\n",
    "        optimizer.apply_gradients(zip(gradiants,model.trainable_variables))\n",
    "        \n",
    "    def fit(self):\n",
    "        \"\"\"\n",
    "        This function represent the training loop function where we are trying to fit model to produce the best function\n",
    "        according to the data we have.\n",
    "        \n",
    "        \"\"\"\n",
    "        for episode in tqdm.tqdm(range(self.episodes)):\n",
    "            state=self.env.reset()\n",
    "            stacked_state=self._state_creator(state,True)\n",
    "            rewards=0\n",
    "            epsilon=max(1-episode/7000,0.01)\n",
    "            while True:\n",
    "                stacked_state,reward,done,info=self._play_one_step(stacked_state,epsilon)\n",
    "                rewards+=reward\n",
    "                if done :\n",
    "                    if not (episode%10) and len(self.rewards_list):\n",
    "                        self.online_model.save_weights(self.model_checkpoint)\n",
    "                        print(\"The best score for last 10 episode is: {} and the worst one is: {}\".format(max(self.rewards_list[-10:]),min(self.rewards_list[-10:])))\n",
    "                    self.rewards_list.append(rewards)\n",
    "                    break\n",
    "                # this step to let the replay buffer has some experiance\n",
    "                if episode>50:\n",
    "                    self._training_step()\n",
    "                #hear where update the target model after 50 episod by set the parameter as online model.\n",
    "                if episode%self.update_rate:\n",
    "                    self.target_model.set_weights(self.online_model.get_weights())\n"
   ]
  },
  {
   "cell_type": "code",
   "execution_count": null,
   "metadata": {},
   "outputs": [],
   "source": [
    "agent = Agent(env,model,model_2)\n"
   ]
  }
 ],
 "metadata": {
  "kernelspec": {
   "display_name": "Python 3",
   "language": "python",
   "name": "python3"
  },
  "language_info": {
   "codemirror_mode": {
    "name": "ipython",
    "version": 3
   },
   "file_extension": ".py",
   "mimetype": "text/x-python",
   "name": "python",
   "nbconvert_exporter": "python",
   "pygments_lexer": "ipython3",
   "version": "3.9.6"
  }
 },
 "nbformat": 4,
 "nbformat_minor": 2
}
